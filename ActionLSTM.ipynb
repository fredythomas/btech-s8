{
 "cells": [
  {
   "cell_type": "code",
   "execution_count": 15,
   "metadata": {},
   "outputs": [],
   "source": [
    "import glob\n",
    "import os\n",
    "import pandas as pd\n",
    "import matplotlib.pyplot as plt\n",
    "import seaborn as sns\n",
    "import shutil"
   ]
  },
  {
   "cell_type": "code",
   "execution_count": 19,
   "metadata": {},
   "outputs": [
    {
     "data": {
      "text/html": [
       "<div>\n",
       "<style scoped>\n",
       "    .dataframe tbody tr th:only-of-type {\n",
       "        vertical-align: middle;\n",
       "    }\n",
       "\n",
       "    .dataframe tbody tr th {\n",
       "        vertical-align: top;\n",
       "    }\n",
       "\n",
       "    .dataframe thead th {\n",
       "        text-align: right;\n",
       "    }\n",
       "</style>\n",
       "<table border=\"1\" class=\"dataframe\">\n",
       "  <thead>\n",
       "    <tr style=\"text-align: right;\">\n",
       "      <th></th>\n",
       "      <th>FileName</th>\n",
       "      <th>Class</th>\n",
       "    </tr>\n",
       "  </thead>\n",
       "  <tbody>\n",
       "    <tr>\n",
       "      <th>0</th>\n",
       "      <td>v_BrushingTeeth_g03_c01.avi</td>\n",
       "      <td>BrushingTeeth</td>\n",
       "    </tr>\n",
       "    <tr>\n",
       "      <th>1</th>\n",
       "      <td>v_BrushingTeeth_g16_c01.avi</td>\n",
       "      <td>BrushingTeeth</td>\n",
       "    </tr>\n",
       "    <tr>\n",
       "      <th>2</th>\n",
       "      <td>v_BrushingTeeth_g22_c03.avi</td>\n",
       "      <td>BrushingTeeth</td>\n",
       "    </tr>\n",
       "    <tr>\n",
       "      <th>3</th>\n",
       "      <td>v_BrushingTeeth_g10_c05.avi</td>\n",
       "      <td>BrushingTeeth</td>\n",
       "    </tr>\n",
       "    <tr>\n",
       "      <th>4</th>\n",
       "      <td>v_BrushingTeeth_g01_c04.avi</td>\n",
       "      <td>BrushingTeeth</td>\n",
       "    </tr>\n",
       "  </tbody>\n",
       "</table>\n",
       "</div>"
      ],
      "text/plain": [
       "                      FileName          Class\n",
       "0  v_BrushingTeeth_g03_c01.avi  BrushingTeeth\n",
       "1  v_BrushingTeeth_g16_c01.avi  BrushingTeeth\n",
       "2  v_BrushingTeeth_g22_c03.avi  BrushingTeeth\n",
       "3  v_BrushingTeeth_g10_c05.avi  BrushingTeeth\n",
       "4  v_BrushingTeeth_g01_c04.avi  BrushingTeeth"
      ]
     },
     "execution_count": 19,
     "metadata": {},
     "output_type": "execute_result"
    }
   ],
   "source": [
    "videos = ['BrushingTeeth','BabyCrawling','FloorGymnastics','SoccerPenalty','ApplyLipstick']\n",
    "\n",
    "data = []\n",
    "for video in videos:\n",
    "    files = [os.path.basename(x) for x in glob.glob(\"UCF-101/\"+video+\"/*.avi\")]\n",
    "    for fil in files:\n",
    "        data.append([fil,video])\n",
    "\n",
    "dataset = pd.DataFrame(data, columns=['FileName', 'Class'])\n",
    "dataset.head()"
   ]
  },
  {
   "cell_type": "code",
   "execution_count": 20,
   "metadata": {},
   "outputs": [
    {
     "name": "stdout",
     "output_type": "stream",
     "text": [
      "SoccerPenalty      137\n",
      "BabyCrawling       132\n",
      "BrushingTeeth      131\n",
      "FloorGymnastics    125\n",
      "ApplyLipstick      114\n",
      "Name: Class, dtype: int64\n",
      "(639, 2)\n",
      "Total No. of Videos:  639\n",
      "<class 'pandas.core.frame.DataFrame'>\n",
      "RangeIndex: 639 entries, 0 to 638\n",
      "Data columns (total 2 columns):\n",
      "FileName    639 non-null object\n",
      "Class       639 non-null object\n",
      "dtypes: object(2)\n",
      "memory usage: 10.1+ KB\n"
     ]
    }
   ],
   "source": [
    "print(dataset['Class'].value_counts())\n",
    "print(dataset.shape)\n",
    "print(\"Total No. of Videos: \",dataset.shape[0])\n",
    "dataset.info()"
   ]
  },
  {
   "cell_type": "code",
   "execution_count": 24,
   "metadata": {},
   "outputs": [
    {
     "data": {
      "image/png": "[encoded data removed]",
      "text/plain": [
       "<Figure size 576x432 with 1 Axes>"
      ]
     },
     "metadata": {
      "needs_background": "light"
     },
     "output_type": "display_data"
    }
   ],
   "source": [
    "plt.figure(figsize=(8,6))\n",
    "sns.countplot(dataset['Class'], order=videos, palette='Set2')\n",
    "plt.title('Action Recognition UCF-101',fontsize=20)\n",
    "plt.xlabel('Video Category', fontsize=16)\n",
    "plt.ylabel('Number of Videos', fontsize=16)\n",
    "plt.show()"
   ]
  },
  {
   "cell_type": "code",
   "execution_count": 12,
   "metadata": {},
   "outputs": [],
   "source": [
    "def get_train_test_lists():\n",
    "   \n",
    "    test_file = 'testlist.txt'\n",
    "    train_file = 'trainlist.txt'\n",
    "\n",
    "    # Build the test list.\n",
    "    with open(test_file) as fin:\n",
    "        test_list = [row.strip() for row in list(fin)]\n",
    "\n",
    "    # Build the train list. Extra step to remove the class index.\n",
    "    with open(train_file) as fin:\n",
    "        train_list = [row.strip() for row in list(fin)]\n",
    "        train_list = [row.split(' ')[0] for row in train_list]\n",
    "\n",
    "    # Set the groups in a dictionary.\n",
    "    file_groups = {\n",
    "        'train': train_list,\n",
    "        'test': test_list\n",
    "    }\n",
    "\n",
    "    return file_groups"
   ]
  },
  {
   "cell_type": "code",
   "execution_count": 16,
   "metadata": {},
   "outputs": [],
   "source": [
    "def copy_files(file_groups):\n",
    "    datasetpath ='UCF-101/'\n",
    "    # Do each of our groups.\n",
    "    for group, videos in file_groups.items():\n",
    "        print(\"Copying \",group,\" list - \", videos[0].split('/')[0])\n",
    "        # Do each of our videos.\n",
    "        for video in videos:\n",
    "\n",
    "            # Get the parts.\n",
    "            parts = video.split('/')\n",
    "            classname = parts[0]\n",
    "            filename = parts[1]\n",
    "\n",
    "            # Check if this class exists.\n",
    "            if not os.path.exists(group + '/' + classname):\n",
    "                print(\"Creating folder for %s/%s\" % (group, classname))\n",
    "                os.makedirs(group + '/' + classname)\n",
    "\n",
    "            # Check if we have already moved this file, or at least that it\n",
    "            # exists to move.\n",
    "            videopath = datasetpath+video \n",
    "            if not os.path.exists(videopath):\n",
    "                print(\"Can't find %s to move. Skipping.\" % (filename))\n",
    "                continue\n",
    "\n",
    "            # Move it.\n",
    "            dest = group + '/' + classname + '/' + filename\n",
    "            #print(\"Moving %s to %s\" % (filename, dest))\n",
    "            #os.rename(filename, dest)\n",
    "            shutil.copyfile(videopath, dest)\n",
    "\n",
    "    print(\"Done.\")"
   ]
  },
  {
   "cell_type": "code",
   "execution_count": 17,
   "metadata": {},
   "outputs": [
    {
     "name": "stdout",
     "output_type": "stream",
     "text": [
      "Copying  train  list -  ApplyLipstick\n",
      "Creating folder for train/BabyCrawling\n",
      "Creating folder for train/BrushingTeeth\n",
      "Creating folder for train/FloorGymnastics\n",
      "Creating folder for train/SoccerPenalty\n",
      "Copying  test  list -  ApplyLipstick\n",
      "Creating folder for test/ApplyLipstick\n",
      "Creating folder for test/BabyCrawling\n",
      "Creating folder for test/BrushingTeeth\n",
      "Creating folder for test/FloorGymnastics\n",
      "Creating folder for test/SoccerPenalty\n",
      "Done.\n"
     ]
    }
   ],
   "source": [
    "file_groups = get_train_test_lists()\n",
    "copy_files(file_groups)"
   ]
  },
  {
   "cell_type": "code",
   "execution_count": 26,
   "metadata": {},
   "outputs": [
    {
     "name": "stdout",
     "output_type": "stream",
     "text": [
      "5  Frames Extracted\n"
     ]
    }
   ],
   "source": [
    "import cv2\n",
    "\n",
    "if not os.path.exists(\"Frames\"):\n",
    "    os.makedirs(\"Frames\")\n",
    "    \n",
    "# Opens the Video file\n",
    "cap= cv2.VideoCapture('train/SoccerPenalty/v_SoccerPenalty_g08_c01.avi')\n",
    "i=0\n",
    "while(cap.isOpened()):\n",
    "    cap.set(cv2.CAP_PROP_POS_MSEC,(i*1000))\n",
    "    ret, frame = cap.read()\n",
    "    if ret == False:\n",
    "        break\n",
    "    cv2.imwrite('Frames/v_SoccerPenalty_g08_c01'+'_'+str(i)+'.jpg',frame)\n",
    "    i+=1\n",
    "\n",
    "cap.release()\n",
    "print(i,\" Frames Extracted\")"
   ]
  },
  {
   "cell_type": "code",
   "execution_count": null,
   "metadata": {},
   "outputs": [],
   "source": []
  }
 ],
 "metadata": {
  "kernelspec": {
   "display_name": "Python 3",
   "language": "python",
   "name": "python3"
  },
  "language_info": {
   "codemirror_mode": {
    "name": "ipython",
    "version": 3
   },
   "file_extension": ".py",
   "mimetype": "text/x-python",
   "name": "python",
   "nbconvert_exporter": "python",
   "pygments_lexer": "ipython3",
   "version": "3.7.2"
  }
 },
 "nbformat": 4,
 "nbformat_minor": 2
}
