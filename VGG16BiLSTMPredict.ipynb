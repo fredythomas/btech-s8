{
 "cells": [
  {
   "cell_type": "code",
   "execution_count": 1,
   "metadata": {},
   "outputs": [
    {
     "name": "stderr",
     "output_type": "stream",
     "text": [
      "Using TensorFlow backend.\n"
     ]
    },
    {
     "name": "stdout",
     "output_type": "stream",
     "text": [
      "importing Jupyter notebook from VGG16BidirectionalLSTM.ipynb\n",
      "importing Jupyter notebook from VGGFeatureExtractor.ipynb\n"
     ]
    }
   ],
   "source": [
    "import os\n",
    "import numpy as np\n",
    "import keras\n",
    "\n",
    "import import_ipynb\n",
    "from VGG16BidirectionalLSTM import VGG16BidirectionalLSTMVideoClassifier\n"
   ]
  },
  {
   "cell_type": "code",
   "execution_count": 2,
   "metadata": {},
   "outputs": [],
   "source": [
    "category = ['BabyCrawling', 'FloorGymnastics', 'BrushingTeeth', 'ApplyLipstick', 'SoccerPenalty']\n",
    "vgg16_include_top = True\n",
    "\n",
    "model_dir_path = 'Models' \n",
    "config_file_path = VGG16BidirectionalLSTMVideoClassifier.get_config_file_path(model_dir_path,\n",
    "                                                                              vgg16_include_top=vgg16_include_top)\n",
    "weight_file_path = VGG16BidirectionalLSTMVideoClassifier.get_weight_file_path(model_dir_path,\n",
    "                                                                              vgg16_include_top=vgg16_include_top)\n",
    "\n",
    "\n",
    "\n"
   ]
  },
  {
   "cell_type": "code",
   "execution_count": 3,
   "metadata": {},
   "outputs": [
    {
     "name": "stdout",
     "output_type": "stream",
     "text": [
      "loading configuration from  Models/vgg16-bidirectional-lstm-config.npy\n",
      "WARNING:tensorflow:From /home/sree/anaconda3/envs/basic/lib/python3.7/site-packages/tensorflow/python/framework/op_def_library.py:263: colocate_with (from tensorflow.python.framework.ops) is deprecated and will be removed in a future version.\n",
      "Instructions for updating:\n",
      "Colocations handled automatically by placer.\n",
      "WARNING:tensorflow:From /home/sree/anaconda3/envs/basic/lib/python3.7/site-packages/keras/backend/tensorflow_backend.py:3445: calling dropout (from tensorflow.python.ops.nn_ops) with keep_prob is deprecated and will be removed in a future version.\n",
      "Instructions for updating:\n",
      "Please use `rate` instead of `keep_prob`. Rate should be set to `rate = 1 - keep_prob`.\n",
      "loading network weights from  Models/vgg16-bidirectional-lstm-weights.h5\n",
      "build vgg16 with pre-trained model\n",
      "VGG16 Bi-LSTM Model Loaded\n"
     ]
    }
   ],
   "source": [
    "predictor = VGG16BidirectionalLSTMVideoClassifier()\n",
    "predictor.load_model(config_file_path, weight_file_path)\n",
    "print(\"VGG16 Bi-LSTM Model Loaded\")"
   ]
  },
  {
   "cell_type": "code",
   "execution_count": 10,
   "metadata": {},
   "outputs": [],
   "source": [
    "def on_button_clicked(b):\n",
    "\n",
    "    filename = 'upload.mp4'\n",
    "    uploaded_filename = next(iter(uploader.value))\n",
    "    content = uploader.value[uploaded_filename]['content']\n",
    "    with open(filename, 'wb') as f: \n",
    "        f.write(content)\n",
    "    \n",
    "    predicted_label = predictor.predict(filename)\n",
    "    print('\\nAction Predicted: ' + predicted_label)\n",
    "    "
   ]
  },
  {
   "cell_type": "code",
   "execution_count": 11,
   "metadata": {},
   "outputs": [
    {
     "data": {
      "application/vnd.jupyter.widget-view+json": {
       "model_id": "3f551a3275c54b208823b082aa4515fa",
       "version_major": 2,
       "version_minor": 0
      },
      "text/plain": [
       "VBox(children=(HTML(value=' <h3>Action Recognition in Video Sequences</h3>', placeholder=''), HTML(value=' <b>…"
      ]
     },
     "metadata": {},
     "output_type": "display_data"
    },
    {
     "name": "stdout",
     "output_type": "stream",
     "text": [
      "Extracting frames from video:  upload.mp4\n",
      "VGG16 Features Extraction Completed...\n",
      "Model Prediction Started...\n",
      "\n",
      "Action Predicted: SoccerPenalty\n"
     ]
    }
   ],
   "source": [
    "import ipywidgets as widgets\n",
    "from ipyupload import FileUpload\n",
    "from IPython.display import display\n",
    "from ipywidgets import Button, Layout\n",
    "\n",
    "form_item_layout = Layout(\n",
    "    display='flex',\n",
    "    flex_flow='row',\n",
    "    justify_content='space-between',\n",
    "    width='50%'\n",
    ")\n",
    "style = {'description_width': '150px'}\n",
    "\n",
    "button = widgets.Button(description=\"Detect Action\",button_style='danger',layout=Layout(width='30%', height='40px'))\n",
    "\n",
    "box_layout = Layout(display='flex',\n",
    "                    flex_flow='column',\n",
    "                    align_items='center',\n",
    "                    border='solid',\n",
    "                    width='75%')\n",
    "\n",
    "\n",
    "title = widgets.HTML(\n",
    "    value=\" <h3>Action Recognition in Video Sequences</h3>\",\n",
    "    placeholder='',\n",
    "    description='',\n",
    ")\n",
    "label = widgets.HTML(\n",
    "    value=\" <b>Please Select Video</b>\",\n",
    "    placeholder='',\n",
    "    description='',\n",
    ")\n",
    "    \n",
    "uploader = FileUpload(\n",
    "\n",
    "\n",
    "accept='',\n",
    "multiple=False,\n",
    "disabled=False, # default\n",
    "# CSS transparently passed to button (in a fact a label element)\n",
    "# e.g. 'color: darkblue; background-color: lightsalmon; width: 180px;'\n",
    "style_button='color: white; background-color: blue; width: 220px;' # default\n",
    ")\n",
    "\n",
    "\n",
    "box = widgets.VBox([title,label,uploader,button],layout=box_layout)\n",
    "display(box)\n",
    "button.on_click(on_button_clicked)\n",
    "\n"
   ]
  },
  {
   "cell_type": "code",
   "execution_count": null,
   "metadata": {},
   "outputs": [],
   "source": []
  }
 ],
 "metadata": {
  "kernelspec": {
   "display_name": "Python 3",
   "language": "python",
   "name": "python3"
  },
  "language_info": {
   "codemirror_mode": {
    "name": "ipython",
    "version": 3
   },
   "file_extension": ".py",
   "mimetype": "text/x-python",
   "name": "python",
   "nbconvert_exporter": "python",
   "pygments_lexer": "ipython3",
   "version": "3.7.2"
  }
 },
 "nbformat": 4,
 "nbformat_minor": 2
}
